{
 "cells": [
  {
   "cell_type": "markdown",
   "id": "9529a55f-6be1-456f-84ee-028c25a495d3",
   "metadata": {},
   "source": [
    "## Elastic Ball Bounce Simulation"
   ]
  },
  {
   "cell_type": "markdown",
   "id": "454f6bba-b5af-4a1a-ab77-5f2f03976fa3",
   "metadata": {},
   "source": [
    "### Introduction\n",
    "\n",
    "This project simulates the motion of an elastic ball bouncing within a defined space. The simulation follows the principles of classical mechanics, considering elasticity, gravity, and collisions with boundaries."
   ]
  },
  {
   "cell_type": "markdown",
   "id": "ab8b0a01-0ab9-4eb5-8fe0-8fbefd3a7332",
   "metadata": {},
   "source": [
    "#### Required Libraries"
   ]
  },
  {
   "cell_type": "code",
   "execution_count": null,
   "id": "f05763c0-887b-48fe-bd88-ce9ce6ccac76",
   "metadata": {},
   "outputs": [],
   "source": [
    "import pygame\n",
    "import sys"
   ]
  },
  {
   "cell_type": "code",
   "execution_count": 2,
   "id": "378b3fc7-ca1b-4425-8bf4-88d6ef8526bb",
   "metadata": {},
   "outputs": [
    {
     "name": "stdout",
     "output_type": "stream",
     "text": [
      "pygame 2.6.1 (SDL 2.28.4, Python 3.12.7)\n",
      "Hello from the pygame community. https://www.pygame.org/contribute.html\n"
     ]
    },
    {
     "ename": "SystemExit",
     "evalue": "",
     "output_type": "error",
     "traceback": [
      "An exception has occurred, use %tb to see the full traceback.\n",
      "\u001b[1;31mSystemExit\u001b[0m\n"
     ]
    },
    {
     "name": "stderr",
     "output_type": "stream",
     "text": [
      "C:\\Users\\gahuk\\anaconda3\\New folder\\Lib\\site-packages\\IPython\\core\\interactiveshell.py:3585: UserWarning: To exit: use 'exit', 'quit', or Ctrl-D.\n",
      "  warn(\"To exit: use 'exit', 'quit', or Ctrl-D.\", stacklevel=1)\n"
     ]
    }
   ],
   "source": [
    "# Initialize Pygame\n",
    "pygame.init()\n",
    "\n",
    "# Screen dimensions\n",
    "WIDTH, HEIGHT = 800, 600\n",
    "screen = pygame.display.set_mode((WIDTH, HEIGHT))\n",
    "pygame.display.set_caption(\"Bouncing Ball Simulation\")\n",
    "\n",
    "# Colors\n",
    "BLACK = (0, 0, 0)\n",
    "CYAN = (0, 255, 255)\n",
    "\n",
    "# Ball properties\n",
    "ball_radius = 20\n",
    "ball_x = WIDTH // 2\n",
    "ball_y = ball_radius\n",
    "ball_velocity_y = 0\n",
    "\n",
    "# Physics properties\n",
    "gravity = 0.5\n",
    "elasticity = 0.8\n",
    "\n",
    "# Clock for controlling frame rate\n",
    "clock = pygame.time.Clock()\n",
    "\n",
    "# Main game loop\n",
    "running = True\n",
    "while running:\n",
    "    for event in pygame.event.get():\n",
    "        if event.type == pygame.QUIT:\n",
    "            running = False\n",
    "\n",
    "    # Update ball position\n",
    "    ball_velocity_y += gravity\n",
    "    ball_y += ball_velocity_y\n",
    "\n",
    "    # Check for collision with the ground\n",
    "    if ball_y + ball_radius > HEIGHT:\n",
    "        ball_y = HEIGHT - ball_radius\n",
    "        ball_velocity_y = -ball_velocity_y * elasticity\n",
    "\n",
    "    # Clear screen\n",
    "    screen.fill(BLACK)\n",
    "\n",
    "    # Draw the ball\n",
    "    pygame.draw.circle(screen, CYAN, (ball_x, int(ball_y)), ball_radius)\n",
    "\n",
    "    # Update display\n",
    "    pygame.display.flip()\n",
    "\n",
    "    # Cap the frame rate\n",
    "    clock.tick(60)\n",
    "\n",
    "# Quit Pygame\n",
    "pygame.quit()\n",
    "sys.exit()"
   ]
  },
  {
   "cell_type": "markdown",
   "id": "c6e6b96b-cf85-4cd1-8638-6992c2b29092",
   "metadata": {},
   "source": [
    "### Results & Observations\n",
    "\n",
    "- The ball’s motion follows a predictable parabolic trajectory.\n",
    "- Energy conservation is maintained in purely elastic cases.\n",
    "- Factors like air resistance (if included) alter motion over time."
   ]
  }
 ],
 "metadata": {
  "kernelspec": {
   "display_name": "Python 3 (ipykernel)",
   "language": "python",
   "name": "python3"
  },
  "language_info": {
   "codemirror_mode": {
    "name": "ipython",
    "version": 3
   },
   "file_extension": ".py",
   "mimetype": "text/x-python",
   "name": "python",
   "nbconvert_exporter": "python",
   "pygments_lexer": "ipython3",
   "version": "3.12.7"
  }
 },
 "nbformat": 4,
 "nbformat_minor": 5
}
